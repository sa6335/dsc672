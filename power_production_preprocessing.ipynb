{
 "cells": [
  {
   "cell_type": "code",
   "execution_count": 4,
   "metadata": {},
   "outputs": [],
   "source": [
    "import pandas as pd\n",
    "import numpy as np\n",
    "\n",
    "\"\"\" \n",
    "DSC672\n",
    "Team: Steven Rummel, Ricardo De Leon II, Prabhakaran Raghavan, Sibi Augustin, Tyler Jewell\n",
    "Project: Energy Consumption and Renewable Energy\n",
    "Purpose: \n",
    "\n",
    "Import solar and wind data from the relevant source files, \n",
    "convert string-format date and time into valid datetime values,\n",
    "remove unneeded columns, normalize column headers, and\n",
    "export to canonical data source for further analysis.\n",
    "\"\"\"\n",
    "\n",
    "solar_prod = pd.read_csv('./raw/solararray_production.csv')\n",
    "wind_prod = pd.read_csv('./raw/windfarm_production.csv')\n",
    "\n",
    "solar_prod.rename(index=str, columns={\"Electricity_KW_HR\": \"KWH\"}, inplace=True)\n",
    "wind_prod.rename(index=str, columns={\"Electricity_KW_HR\": \"KWH\"}, inplace=True)\n",
    "\n",
    "solar_prod['Date'] = pd.to_datetime(solar_prod['Date'])\n",
    "solar_prod['Date'] +=  pd.to_timedelta(solar_prod['Hour'], unit='h')\n",
    "solar_prod.drop(['Hour'], axis=1, inplace=True)\n",
    "solar_prod['Source'] = 'Solar'\n",
    "\n",
    "wind_prod['Date'] = pd.to_datetime(wind_prod['Date'])\n",
    "wind_prod['Date'] +=  pd.to_timedelta(wind_prod['Hour'], unit='h')\n",
    "wind_prod.drop(['Hour'], axis=1, inplace=True)\n",
    "wind_prod['Source'] = 'Wind'\n",
    "\n",
    "power_production = pd.concat([solar_prod, wind_prod], ignore_index=True, sort=False)"
   ]
  },
  {
   "cell_type": "code",
   "execution_count": 5,
   "metadata": {},
   "outputs": [
    {
     "name": "stdout",
     "output_type": "stream",
     "text": [
      "Solar: 18704 Wind: 15385 Total: 34089 Power: 34089\n"
     ]
    }
   ],
   "source": [
    "sol = len(solar_prod.index)\n",
    "wind = len(wind_prod.index)\n",
    "allpower = len(power_production.index)\n",
    "\n",
    "assert ((sol + wind) == allpower), \"Dataframe concatenation failure! Data Lost! Check your logic!\"\n",
    "\n",
    "print(\"Solar: {} Wind: {} Total: {} Power: {}\".format(sol, wind, sol + wind, allpower))\n",
    "power_production.to_pickle(\"./processed/power_production.pkl\")"
   ]
  },
  {
   "cell_type": "code",
   "execution_count": 6,
   "metadata": {},
   "outputs": [
    {
     "name": "stdout",
     "output_type": "stream",
     "text": [
      "Source: Solar\n",
      "Source: Wind\n"
     ]
    }
   ],
   "source": [
    "for source in power_production['Source'].unique():\n",
    "    print(\"Source: {}\".format(source))"
   ]
  },
  {
   "cell_type": "code",
   "execution_count": null,
   "metadata": {},
   "outputs": [],
   "source": []
  }
 ],
 "metadata": {
  "kernelspec": {
   "display_name": "Python 3",
   "language": "python",
   "name": "python3"
  },
  "language_info": {
   "codemirror_mode": {
    "name": "ipython",
    "version": 3
   },
   "file_extension": ".py",
   "mimetype": "text/x-python",
   "name": "python",
   "nbconvert_exporter": "python",
   "pygments_lexer": "ipython3",
   "version": "3.6.5"
  }
 },
 "nbformat": 4,
 "nbformat_minor": 2
}
