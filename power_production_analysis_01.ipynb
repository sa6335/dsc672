{
 "cells": [
  {
   "cell_type": "code",
   "execution_count": 23,
   "metadata": {},
   "outputs": [],
   "source": [
    "import pandas as pd\n",
    "from pandas import Series\n",
    "import numpy as np\n",
    "from matplotlib import pyplot\n",
    "% matplotlib inline\n",
    "\n",
    "power_prod = pd.read_pickle(\"./processed/power_production.pkl\")\n"
   ]
  },
  {
   "cell_type": "code",
   "execution_count": 24,
   "metadata": {},
   "outputs": [
    {
     "name": "stdout",
     "output_type": "stream",
     "text": [
      "                 Date       KWH Source\n",
      "0 2010-01-04 16:00:00  14186.16  Solar\n",
      "1 2010-01-04 17:00:00   5898.00  Solar\n",
      "2 2010-01-05 10:00:00  12421.86  Solar\n",
      "3 2010-01-05 11:00:00  14210.46  Solar\n",
      "4 2010-01-05 12:00:00  14723.64  Solar\n"
     ]
    }
   ],
   "source": [
    "print(power_prod.head())"
   ]
  },
  {
   "cell_type": "code",
   "execution_count": 26,
   "metadata": {},
   "outputs": [
    {
     "name": "stdout",
     "output_type": "stream",
     "text": [
      "***********************************\n",
      "Source: Solar\n",
      "                 KWH\n",
      "count   18704.000000\n",
      "mean    68664.062254\n",
      "std     55629.182533\n",
      "min         1.441196\n",
      "25%     18261.737166\n",
      "50%     53860.210000\n",
      "75%    114469.080000\n",
      "max    205619.360000\n",
      "***********************************\n",
      "Source: Wind\n",
      "                KWH\n",
      "count  15385.000000\n",
      "mean   12045.322327\n",
      "std    12505.745777\n",
      "min        0.000000\n",
      "25%     2448.000000\n",
      "50%     7872.000000\n",
      "75%    17408.000000\n",
      "max    64032.000000\n"
     ]
    }
   ],
   "source": [
    "for source in power_prod['Source'].unique():\n",
    "    print(\"***********************************\")\n",
    "    print(\"Source: {}\".format(source))\n",
    "    print(power_prod.loc[power_prod['Source'] == source].describe())\n",
    "\n"
   ]
  },
  {
   "cell_type": "code",
   "execution_count": null,
   "metadata": {},
   "outputs": [],
   "source": []
  }
 ],
 "metadata": {
  "kernelspec": {
   "display_name": "Python 3",
   "language": "python",
   "name": "python3"
  },
  "language_info": {
   "codemirror_mode": {
    "name": "ipython",
    "version": 3
   },
   "file_extension": ".py",
   "mimetype": "text/x-python",
   "name": "python",
   "nbconvert_exporter": "python",
   "pygments_lexer": "ipython3",
   "version": "3.6.5"
  }
 },
 "nbformat": 4,
 "nbformat_minor": 2
}
